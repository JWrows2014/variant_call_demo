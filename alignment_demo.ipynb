{
 "cells": [
  {
   "cell_type": "code",
   "execution_count": 2,
   "id": "decimal-salad",
   "metadata": {},
   "outputs": [
    {
     "name": "stdout",
     "output_type": "stream",
     "text": [
      "genome.1.bt2  genome.3.bt2  genome.fa\t      genome.rev.2.bt2\n",
      "genome.2.bt2  genome.4.bt2  genome.rev.1.bt2\n"
     ]
    }
   ],
   "source": [
    "## the first step in sequence alignment to reference using Bowtie2 is usually to build\n",
    "####bowtie2 specific reference genome indices\n",
    "####for this demo we will use hg38 from http://igenomes.illumina.com.s3-website-us-east-1.amazonaws.com/Homo_sapiens/UCSC/hg38/Homo_sapiens_UCSC_hg38.tar.gz,\n",
    "####which comes with indices as indicated by the files with *.bt2 extension\n",
    "\n",
    "! ls /mnt/d/genomes/Homo_sapiens/UCSC/hg38/Sequence/Bowtie2Index"
   ]
  },
  {
   "cell_type": "code",
   "execution_count": 3,
   "id": "still-pixel",
   "metadata": {},
   "outputs": [
    {
     "name": "stdout",
     "output_type": "stream",
     "text": [
      "92585 reads; of these:\n",
      "  92585 (100.00%) were paired; of these:\n",
      "    7095 (7.66%) aligned concordantly 0 times\n",
      "    69418 (74.98%) aligned concordantly exactly 1 time\n",
      "    16072 (17.36%) aligned concordantly >1 times\n",
      "    ----\n",
      "    7095 pairs aligned concordantly 0 times; of these:\n",
      "      4680 (65.96%) aligned discordantly 1 time\n",
      "    ----\n",
      "    2415 pairs aligned 0 times concordantly or discordantly; of these:\n",
      "      4830 mates make up the pairs; of these:\n",
      "        1154 (23.89%) aligned 0 times\n",
      "        1044 (21.61%) aligned exactly 1 time\n",
      "        2632 (54.49%) aligned >1 times\n",
      "99.38% overall alignment rate\n"
     ]
    }
   ],
   "source": [
    "! ~/miniconda3/bin/bowtie2 -x /mnt/d/genomes/Homo_sapiens/UCSC/hg38/Sequence/Bowtie2Index/genome -1 /mnt/d/variant_call_example/Coriell-NA12877_R1.fastq -2 /mnt/d/variant_call_example/Coriell-NA12877_R2.fastq -S /mnt/d/variant_call_example/Coriell-NA12877.sam"
   ]
  },
  {
   "cell_type": "code",
   "execution_count": 4,
   "id": "military-society",
   "metadata": {},
   "outputs": [
    {
     "name": "stdout",
     "output_type": "stream",
     "text": [
      "Coriell-NA12877_R1.fastq\t\t   Coriell-NA12877_R2_fastqc\n",
      "Coriell-NA12877_R1_fastqc\t\t   Coriell-NA12877_R2_fastqc.html\n",
      "Coriell-NA12877_R1_fastqc.html\t\t   Coriell-NA12877_R2_fastqc.zip\n",
      "Coriell-NA12877_R1_fastqc_image_files.txt  Coriell-NA12877.sam\n",
      "Coriell-NA12877_R1_fastqc.zip\t\t   quality_check_demo.ipynb\n",
      "Coriell-NA12877_R2.fastq\n"
     ]
    }
   ],
   "source": [
    "## after running the sequence mapping with bowtie2 we the statistics\n",
    "####a thing to pay attention to are the reads that aligned discordantly, which\n",
    "####may indicate structural variation (https://www.ncbi.nlm.nih.gov/pmc/articles/PMC4467381/)\n",
    "## the output is in *.SAM format, which stands for Sequence Alignment Map\n",
    "####for more regarding information in the SAM file see https://samtools.github.io/hts-specs/SAMv1.pdf\n",
    "\n",
    "## here, our output file is Coriell-NA12877.sam\n",
    "\n",
    "! ls /mnt/d/variant_call_example"
   ]
  }
 ],
 "metadata": {
  "kernelspec": {
   "display_name": "Python 3.8.5 64-bit ('base': conda)",
   "language": "python",
   "name": "python38564bitbasecondad60fe12c1b1046abb4ad55e6f4a5c2b3"
  },
  "language_info": {
   "codemirror_mode": {
    "name": "ipython",
    "version": 3
   },
   "file_extension": ".py",
   "mimetype": "text/x-python",
   "name": "python",
   "nbconvert_exporter": "python",
   "pygments_lexer": "ipython3",
   "version": "3.8.5"
  }
 },
 "nbformat": 4,
 "nbformat_minor": 5
}
